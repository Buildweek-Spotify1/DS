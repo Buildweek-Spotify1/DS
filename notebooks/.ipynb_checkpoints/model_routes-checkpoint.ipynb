{
 "cells": [
  {
   "cell_type": "code",
   "execution_count": 1,
   "metadata": {
    "colab": {},
    "colab_type": "code",
    "id": "wS95uiRMsb4D"
   },
   "outputs": [],
   "source": [
    "import pandas as pd\n",
    "import numpy as np\n",
    "from sklearn.neighbors import NearestNeighbors\n",
    "\n"
   ]
  },
  {
   "cell_type": "code",
   "execution_count": 2,
   "metadata": {
    "colab": {},
    "colab_type": "code",
    "id": "DBaMh7i6Oa85"
   },
   "outputs": [],
   "source": [
    "'''Funtion that will take the song number and return 15 most similar songs'track_ids'''\n",
    "\n",
    "\n",
    "def recommend(track_id = '2YegxR5As7BeQuVp2U6pek'):\n",
    "\n",
    "  df=pd.read_csv('https://raw.githubusercontent.com/JenBanks8585/Spotmefy/main/data/training_df.csv')   # needs pickling\n",
    "  train_new=pd.read_csv('https://raw.githubusercontent.com/JenBanks8585/Spotmefy/main/data/train_new.csv')  # needs pickling\n",
    "\n",
    "  song_num = train_new[train_new['track_id']==track_id].song_num.to_numpy()[0]\n",
    "\n",
    "  neigh = NearestNeighbors(n_neighbors=15)\n",
    "  neigh.fit(df.values)\n",
    "  distance, neighbors = neigh.kneighbors(np.array([df.values[song_num]]))\n",
    "\n",
    "  song_list = []\n",
    "  for item in neighbors[0][1:]: # this way excludes itself\n",
    "      row = train_new.iloc[item]\n",
    "      song_list.append((row.track_id))  # print list of track id\n",
    "      \n",
    "  return song_list"
   ]
  },
  {
   "cell_type": "code",
   "execution_count": 3,
   "metadata": {
    "colab": {
     "base_uri": "https://localhost:8080/",
     "height": 265
    },
    "colab_type": "code",
    "id": "4LqIq06Espq9",
    "outputId": "2b6a0e87-e83f-4a7b-c1ce-41b3d61a15c9"
   },
   "outputs": [
    {
     "data": {
      "text/plain": [
       "['6muW8cSjJ3rusKJ0vH5olw',\n",
       " '2YegxR5As7BeQuVp2U6pek',\n",
       " '21Ft8ME799DMZjxNwmui6Z',\n",
       " '7yHqOZfsXYlicyoMt62yC6',\n",
       " '4XzgjxGKqULifVf7mnDIQK',\n",
       " '7KdRu0h7PQ0Ecfa37rUBzW',\n",
       " '33YFwLJbAdgePluIuEVa9p',\n",
       " '47TqCCnEliDp8NRDyIQoQq',\n",
       " '4FCb4CUbFCMNRkI6lYc1zI',\n",
       " '1BViPjTT585XAhkUUrkts0',\n",
       " '0zVMzJ37VQNFUNvdxxat2E',\n",
       " '2z4pcBLQXF2BXKFvd0BuB6',\n",
       " '2TAf6ITyhwc9Z3MYb4tSYl',\n",
       " '6rje9f1wRFJDO2iTORw0lH']"
      ]
     },
     "execution_count": 3,
     "metadata": {},
     "output_type": "execute_result"
    }
   ],
   "source": [
    "# Recommendation for default track_id\n",
    "recommend()"
   ]
  },
  {
   "cell_type": "code",
   "execution_count": 5,
   "metadata": {
    "colab": {
     "base_uri": "https://localhost:8080/",
     "height": 265
    },
    "colab_type": "code",
    "id": "FoJ29ZdTs6s1",
    "outputId": "7aabc279-24e7-4f6f-e670-c5ad8ed5be5d"
   },
   "outputs": [
    {
     "data": {
      "text/plain": [
       "['33YFwLJbAdgePluIuEVa9p',\n",
       " '0zVMzJ37VQNFUNvdxxat2E',\n",
       " '6rje9f1wRFJDO2iTORw0lH',\n",
       " '21Ft8ME799DMZjxNwmui6Z',\n",
       " '2TAf6ITyhwc9Z3MYb4tSYl',\n",
       " '47TqCCnEliDp8NRDyIQoQq',\n",
       " '2z4pcBLQXF2BXKFvd0BuB6',\n",
       " '7KdRu0h7PQ0Ecfa37rUBzW',\n",
       " '4XzgjxGKqULifVf7mnDIQK',\n",
       " '6zlBoRMKQv2UyrafMVoQlq',\n",
       " '7GQqj9jRtDkMp8zByehXQI',\n",
       " '4o7WXic8yAQWOV7iJXZ4jD',\n",
       " '7yHqOZfsXYlicyoMt62yC6',\n",
       " '1BViPjTT585XAhkUUrkts0']"
      ]
     },
     "execution_count": 5,
     "metadata": {},
     "output_type": "execute_result"
    }
   ],
   "source": [
    "# Recommendation for song with track_id '47TqCCnEliDp8NRDyIQoQq'\n",
    "\n",
    "recommend('47TqCCnEliDp8NRDyIQoQq')"
   ]
  },
  {
   "cell_type": "code",
   "execution_count": null,
   "metadata": {
    "colab": {},
    "colab_type": "code",
    "id": "Frrac-lrs6Yb"
   },
   "outputs": [],
   "source": []
  },
  {
   "cell_type": "code",
   "execution_count": null,
   "metadata": {},
   "outputs": [],
   "source": []
  }
 ],
 "metadata": {
  "colab": {
   "name": "Draft2.ipynb",
   "provenance": []
  },
  "kernelspec": {
   "display_name": "U4S12-NLP (Python3)",
   "language": "python",
   "name": "u4s12-nlp"
  },
  "language_info": {
   "codemirror_mode": {
    "name": "ipython",
    "version": 3
   },
   "file_extension": ".py",
   "mimetype": "text/x-python",
   "name": "python",
   "nbconvert_exporter": "python",
   "pygments_lexer": "ipython3",
   "version": "3.7.0"
  }
 },
 "nbformat": 4,
 "nbformat_minor": 4
}
