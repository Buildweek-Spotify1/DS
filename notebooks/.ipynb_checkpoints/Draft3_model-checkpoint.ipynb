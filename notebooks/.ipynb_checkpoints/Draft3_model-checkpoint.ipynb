{
  "nbformat": 4,
  "nbformat_minor": 0,
  "metadata": {
    "colab": {
      "name": "Draft2.ipynb",
      "provenance": []
    },
    "kernelspec": {
      "name": "python3",
      "display_name": "Python 3"
    }
  },
  "cells": [
    {
      "cell_type": "code",
      "metadata": {
        "id": "wS95uiRMsb4D",
        "colab_type": "code",
        "colab": {}
      },
      "source": [
        "import pandas as pd\n",
        "import numpy as np\n",
        "from sklearn.neighbors import NearestNeighbors\n",
        "\n"
      ],
      "execution_count": null,
      "outputs": []
    },
    {
      "cell_type": "code",
      "metadata": {
        "id": "DBaMh7i6Oa85",
        "colab_type": "code",
        "colab": {}
      },
      "source": [
        "'''Funtion that will take the song number and return 15 most similar songs'track_ids'''\n",
        "\n",
        "\n",
        "def recommend(track_id = '2YegxR5As7BeQuVp2U6pek'):\n",
        "\n",
        "  df=pd.read_csv('https://raw.githubusercontent.com/JenBanks8585/Spotmefy/main/data/training_df.csv')   # needs pickling\n",
        "  train_new=pd.read_csv('https://raw.githubusercontent.com/JenBanks8585/Spotmefy/main/data/train_new.csv')  # needs pickling\n",
        "\n",
        "  song_num = train_new[train_new['track_id']==track_id].song_num.to_numpy()[0]\n",
        "\n",
        "  neigh = NearestNeighbors(n_neighbors=15)\n",
        "  neigh.fit(df.values)\n",
        "  distance, neighbors = neigh.kneighbors(np.array([df.values[song_num]]))\n",
        "\n",
        "  song_list = []\n",
        "  for item in neighbors[0][1:]: # this way excludes itself\n",
        "      row = train_new.iloc[item]\n",
        "      song_list.append((row.track_id))  # print list of track id\n",
        "      \n",
        "  return song_list"
      ],
      "execution_count": null,
      "outputs": []
    },
    {
      "cell_type": "code",
      "metadata": {
        "id": "4LqIq06Espq9",
        "colab_type": "code",
        "colab": {
          "base_uri": "https://localhost:8080/",
          "height": 265
        },
        "outputId": "2b6a0e87-e83f-4a7b-c1ce-41b3d61a15c9"
      },
      "source": [
        "# Recommendation for deafulat song\n",
        "recommend()"
      ],
      "execution_count": null,
      "outputs": [
        {
          "output_type": "execute_result",
          "data": {
            "text/plain": [
              "['6muW8cSjJ3rusKJ0vH5olw',\n",
              " '2YegxR5As7BeQuVp2U6pek',\n",
              " '21Ft8ME799DMZjxNwmui6Z',\n",
              " '7yHqOZfsXYlicyoMt62yC6',\n",
              " '4XzgjxGKqULifVf7mnDIQK',\n",
              " '7KdRu0h7PQ0Ecfa37rUBzW',\n",
              " '33YFwLJbAdgePluIuEVa9p',\n",
              " '47TqCCnEliDp8NRDyIQoQq',\n",
              " '4FCb4CUbFCMNRkI6lYc1zI',\n",
              " '1BViPjTT585XAhkUUrkts0',\n",
              " '0zVMzJ37VQNFUNvdxxat2E',\n",
              " '2z4pcBLQXF2BXKFvd0BuB6',\n",
              " '2TAf6ITyhwc9Z3MYb4tSYl',\n",
              " '6rje9f1wRFJDO2iTORw0lH']"
            ]
          },
          "metadata": {
            "tags": []
          },
          "execution_count": 3
        }
      ]
    },
    {
      "cell_type": "code",
      "metadata": {
        "id": "FoJ29ZdTs6s1",
        "colab_type": "code",
        "colab": {
          "base_uri": "https://localhost:8080/",
          "height": 265
        },
        "outputId": "7aabc279-24e7-4f6f-e670-c5ad8ed5be5d"
      },
      "source": [
        "# Recommendation for song with track_id '47TqCCnEliDp8NRDyIQoQq'\n",
        "\n",
        "recommend('47TqCCnEliDp8NRDyIQoQq')"
      ],
      "execution_count": null,
      "outputs": [
        {
          "output_type": "execute_result",
          "data": {
            "text/plain": [
              "['33YFwLJbAdgePluIuEVa9p',\n",
              " '0zVMzJ37VQNFUNvdxxat2E',\n",
              " '6rje9f1wRFJDO2iTORw0lH',\n",
              " '21Ft8ME799DMZjxNwmui6Z',\n",
              " '2TAf6ITyhwc9Z3MYb4tSYl',\n",
              " '47TqCCnEliDp8NRDyIQoQq',\n",
              " '2z4pcBLQXF2BXKFvd0BuB6',\n",
              " '7KdRu0h7PQ0Ecfa37rUBzW',\n",
              " '4XzgjxGKqULifVf7mnDIQK',\n",
              " '6zlBoRMKQv2UyrafMVoQlq',\n",
              " '7GQqj9jRtDkMp8zByehXQI',\n",
              " '4o7WXic8yAQWOV7iJXZ4jD',\n",
              " '7yHqOZfsXYlicyoMt62yC6',\n",
              " '1BViPjTT585XAhkUUrkts0']"
            ]
          },
          "metadata": {
            "tags": []
          },
          "execution_count": 4
        }
      ]
    },
    {
      "cell_type": "code",
      "metadata": {
        "id": "Frrac-lrs6Yb",
        "colab_type": "code",
        "colab": {}
      },
      "source": [
        ""
      ],
      "execution_count": null,
      "outputs": []
    }
  ]
}