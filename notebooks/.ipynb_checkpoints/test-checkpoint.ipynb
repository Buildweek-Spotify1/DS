{
 "metadata": {
  "language_info": {
   "codemirror_mode": {
    "name": "ipython",
    "version": 3
   },
   "file_extension": ".py",
   "mimetype": "text/x-python",
   "name": "python",
   "nbconvert_exporter": "python",
   "pygments_lexer": "ipython3",
   "version": "3.8.2-final"
  },
  "orig_nbformat": 2,
  "kernelspec": {
   "name": "python38264bit5f79eb7280ae45ddbce2e53866d3c05f",
   "display_name": "Python 3.8.2 64-bit"
  }
 },
 "nbformat": 4,
 "nbformat_minor": 2,
 "cells": [
  {
   "cell_type": "code",
   "execution_count": 1,
   "metadata": {},
   "outputs": [],
   "source": [
    "from os import getenv\n",
    "from dotenv import load_dotenv\n",
    "import spotipy\n",
    "from spotipy import SpotifyClientCredentials"
   ]
  },
  {
   "cell_type": "code",
   "execution_count": 2,
   "metadata": {},
   "outputs": [],
   "source": [
    "load_dotenv()\n",
    "\n",
    "client_id = getenv('SPOTIPY_CLIENT_ID')\n",
    "client_secret = getenv('SPOTIPY_CLIENT_SECRET')\n",
    "\n",
    "client_credentials_manager = SpotifyClientCredentials(client_id,client_secret)\n",
    "\n",
    "sp = spotipy.Spotify(client_credentials_manager=client_credentials_manager)"
   ]
  },
  {
   "cell_type": "code",
   "execution_count": 3,
   "metadata": {},
   "outputs": [],
   "source": [
    "def get_artist(name):\n",
    "    result = sp.search(name)\n",
    "    data = result['tracks']['items'][1]['artists'][0]['uri']\n",
    "    return data"
   ]
  },
  {
   "cell_type": "code",
   "execution_count": 4,
   "metadata": {},
   "outputs": [],
   "source": [
    " data = get_artist('post malone')"
   ]
  },
  {
   "cell_type": "code",
   "execution_count": 5,
   "metadata": {},
   "outputs": [],
   "source": [
    "related_art = sp.artist_related_artists(data)\n",
    "for i in range(len(related_art['artists'])):\n",
    "    name = related_art['artists'][i]['name']\n",
    "    uri = related_art['artists'][i]['uri']\n",
    "    genre = related_art['artists'][i]['genres']"
   ]
  },
  {
   "cell_type": "code",
   "execution_count": 6,
   "metadata": {
    "tags": []
   },
   "outputs": [
    {
     "output_type": "execute_result",
     "data": {
      "text/plain": "['spotify:album:0llyIxX3nDC3hobbGibVZl',\n 'spotify:album:2jGYXB8sZathOM5zsQWI7J',\n 'spotify:album:0XAIjjN5qxViVS0Y5fYkar',\n 'spotify:album:52uRzLGvgY17saKI7khBsU',\n 'spotify:album:4Nlbt2EuXedr6UqaeXEI4c',\n 'spotify:album:6NVRGg3dKALTNwHqAqdYBf',\n 'spotify:album:1j2x7FJXTgUT0X5hZ8TDXE',\n 'spotify:album:2A7c79XQNG7Mai20YugpAF',\n 'spotify:album:4TQQatT1Z2q4iIPcja4zGB',\n 'spotify:album:5RlT8X7XGGLKUhoimrDl54',\n 'spotify:album:2kSTssn90EgrYWNlWZJ9r4',\n 'spotify:album:6YxrEdw7cMY72Y1nLOkl3n',\n 'spotify:album:3j5e6ptSj2JQeI169yH0lh',\n 'spotify:album:4GZRT7uSmZOmmp3iEsFuj7',\n 'spotify:album:19DGkH750PrQMMnKqBAxfY',\n 'spotify:album:2fRLnox9PQ9nos2YYdcYwE',\n 'spotify:album:3jQol8uDHmZIgqaVGogf37',\n 'spotify:album:55LEyjmr7BnsXA1zIOOSdc',\n 'spotify:album:29oJ0lCipWNTTfESq8v99U',\n 'spotify:album:2yXxWUBBUifseY5uF1sUaT']"
     },
     "metadata": {},
     "execution_count": 6
    }
   ],
   "source": [
    "sp_albums = sp.artist_albums(uri)\n",
    "album_names = []\n",
    "album_uris = []\n",
    "for i in range(len(sp_albums['items'])):\n",
    "    album_names.append(sp_albums['items'][i]['name'])\n",
    "    album_uris.append(sp_albums['items'][i]['uri'])\n",
    "    \n",
    "album_names\n",
    "album_uris\n",
    "#Keep names an\n",
    "\n"
   ]
  },
  {
   "cell_type": "code",
   "execution_count": 7,
   "metadata": {},
   "outputs": [],
   "source": [
    "def albumSongs(uri):\n",
    "    album = uri #assign album uri to a_name\n",
    "    spotify_albums[album] = {} #Creates dictionary for that specific album#Create keys-values of empty lists inside nested dictionary for album\n",
    "    spotify_albums[album]['album'] = [] #create empty list\n",
    "    spotify_albums[album]['track'] = []\n",
    "    spotify_albums[album]['id'] = []\n",
    "    spotify_albums[album]['uri'] = []\n",
    "    spotify_albums[album]['name'] = []\n",
    "    tracks = sp.album_tracks(album) #pull data on album tracks\n",
    "    for n in range(len(tracks['items'])): #for each song track\n",
    "        spotify_albums[album]['album'].append(album_names[album_count]) #append album name tracked via album_count\n",
    "        spotify_albums[album]['track'].append(tracks['items'][n]['name'])\n",
    "        spotify_albums[album]['id'].append(tracks['items'][n]['id'])\n",
    "        spotify_albums[album]['name'].append(related_art['artists'][n]['name'])\n",
    "        spotify_albums[album]['uri'].append(tracks['items'][n]['uri'])"
   ]
  },
  {
   "cell_type": "code",
   "execution_count": 8,
   "metadata": {
    "tags": []
   },
   "outputs": [
    {
     "output_type": "stream",
     "name": "stdout",
     "text": "Album Double Or Nothing (& Metro Boomin) songs has been added to spotify_albums dictionary\nAlbum Double Or Nothing (& Metro Boomin) songs has been added to spotify_albums dictionary\nAlbum I Decided. songs has been added to spotify_albums dictionary\nAlbum I Decided. songs has been added to spotify_albums dictionary\nAlbum Dark Sky Paradise (Deluxe) songs has been added to spotify_albums dictionary\nAlbum Dark Sky Paradise (Deluxe) songs has been added to spotify_albums dictionary\nAlbum Dark Sky Paradise songs has been added to spotify_albums dictionary\nAlbum Dark Sky Paradise songs has been added to spotify_albums dictionary\nAlbum Good Music Chicago songs has been added to spotify_albums dictionary\nAlbum Hall Of Fame (Deluxe) songs has been added to spotify_albums dictionary\nAlbum Hall Of Fame (Deluxe) songs has been added to spotify_albums dictionary\nAlbum Hall Of Fame (Deluxe) songs has been added to spotify_albums dictionary\nAlbum Hall Of Fame songs has been added to spotify_albums dictionary\nAlbum Hall Of Fame songs has been added to spotify_albums dictionary\nAlbum Finally Famous (Deluxe) songs has been added to spotify_albums dictionary\nAlbum Finally Famous songs has been added to spotify_albums dictionary\nAlbum Finally Famous songs has been added to spotify_albums dictionary\nAlbum Finally Famous (Edited Version) songs has been added to spotify_albums dictionary\nAlbum Finally Famous songs has been added to spotify_albums dictionary\nAlbum Detroit vs. Everybody songs has been added to spotify_albums dictionary\n"
    }
   ],
   "source": [
    "spotify_albums = {}\n",
    "album_count = 0\n",
    "for i in album_uris: #each album\n",
    "    albumSongs(i)\n",
    "    print(\"Album \" + str(album_names[album_count]) + \" songs has been added to spotify_albums dictionary\")\n",
    "    album_count+=1 #Updates album count once all tracks have been added"
   ]
  },
  {
   "cell_type": "code",
   "execution_count": 9,
   "metadata": {},
   "outputs": [],
   "source": [
    "def audio_features(album):\n",
    "    #Add new key-values to store audio features\n",
    "    spotify_albums[album]['acousticness'] = []\n",
    "    spotify_albums[album]['danceability'] = []\n",
    "    spotify_albums[album]['energy'] = []\n",
    "    spotify_albums[album]['instrumentalness'] = []\n",
    "    spotify_albums[album]['liveness'] = []\n",
    "    spotify_albums[album]['loudness'] = []\n",
    "    spotify_albums[album]['speechiness'] = []\n",
    "    spotify_albums[album]['tempo'] = []\n",
    "    spotify_albums[album]['valence'] = []\n",
    "    spotify_albums[album]['popularity'] = []\n",
    "    #create a track counter\n",
    "    track_count = 0\n",
    "    for track in spotify_albums[album]['uri']:\n",
    "        #pull audio features per track\n",
    "        features = sp.audio_features(track)\n",
    "        \n",
    "        #Append to relevant key-value\n",
    "        spotify_albums[album]['acousticness'].append(features[0]['acousticness'])\n",
    "        spotify_albums[album]['danceability'].append(features[0]['danceability'])\n",
    "        spotify_albums[album]['energy'].append(features[0]['energy'])\n",
    "        spotify_albums[album]['instrumentalness'].append(features[0]['instrumentalness'])\n",
    "        spotify_albums[album]['liveness'].append(features[0]['liveness'])\n",
    "        spotify_albums[album]['loudness'].append(features[0]['loudness'])\n",
    "        spotify_albums[album]['speechiness'].append(features[0]['speechiness'])\n",
    "        spotify_albums[album]['tempo'].append(features[0]['tempo'])\n",
    "        spotify_albums[album]['valence'].append(features[0]['valence'])\n",
    "        #popularity is stored elsewhere\n",
    "        pop = sp.track(track)\n",
    "        spotify_albums[album]['popularity'].append(pop['popularity'])\n",
    "        track_count+=1"
   ]
  },
  {
   "cell_type": "code",
   "execution_count": 10,
   "metadata": {
    "tags": []
   },
   "outputs": [
    {
     "output_type": "stream",
     "name": "stdout",
     "text": "5 playlists completed\nLoop #: 5\nElapsed Time: 12.23081660270691 seconds\n10 playlists completed\nLoop #: 10\nElapsed Time: 24.99873948097229 seconds\n15 playlists completed\nLoop #: 15\nElapsed Time: 42.646958351135254 seconds\n20 playlists completed\nLoop #: 20\nElapsed Time: 55.18274712562561 seconds\n"
    }
   ],
   "source": [
    "import time\n",
    "import numpy as np\n",
    "sleep_min = 2\n",
    "sleep_max = 5\n",
    "start_time = time.time()\n",
    "request_count = 0\n",
    "for i in spotify_albums:\n",
    "    audio_features(i)\n",
    "    request_count+=1\n",
    "    if request_count % 5 == 0:\n",
    "        print(str(request_count) + \" playlists completed\")\n",
    "        time.sleep(np.random.uniform(sleep_min, sleep_max))\n",
    "        print('Loop #: {}'.format(request_count))\n",
    "        print('Elapsed Time: {} seconds'.format(time.time() - start_time))"
   ]
  },
  {
   "cell_type": "code",
   "execution_count": 11,
   "metadata": {},
   "outputs": [
    {
     "output_type": "execute_result",
     "data": {
      "text/plain": "272"
     },
     "metadata": {},
     "execution_count": 11
    }
   ],
   "source": [
    "dic_df = {}\n",
    "dic_df['uri'] = []\n",
    "dic_df['album'] = []\n",
    "dic_df['track'] = []\n",
    "dic_df['id'] = []\n",
    "dic_df['name'] = []\n",
    "dic_df['acousticness'] = []\n",
    "dic_df['danceability'] = []\n",
    "dic_df['energy'] = []\n",
    "dic_df['instrumentalness'] = []\n",
    "dic_df['liveness'] = []\n",
    "dic_df['loudness'] = []\n",
    "dic_df['speechiness'] = []\n",
    "dic_df['tempo'] = []\n",
    "dic_df['valence'] = []\n",
    "dic_df['popularity'] = []\n",
    "for album in spotify_albums: \n",
    "    for feature in spotify_albums[album]:\n",
    "        dic_df[feature].extend(spotify_albums[album][feature])\n",
    "        \n",
    "len(dic_df['album'])"
   ]
  },
  {
   "cell_type": "code",
   "execution_count": 12,
   "metadata": {},
   "outputs": [],
   "source": [
    "import pandas as pd\n",
    "df = pd.DataFrame.from_dict(dic_df)"
   ]
  },
  {
   "cell_type": "code",
   "execution_count": 14,
   "metadata": {},
   "outputs": [
    {
     "output_type": "execute_result",
     "data": {
      "text/plain": "                                  album                               track  \\\n0    Double Or Nothing (& Metro Boomin)          Go Legend (& Metro Boomin)   \n1    Double Or Nothing (& Metro Boomin)        Big Bidness (& Metro Boomin)   \n2    Double Or Nothing (& Metro Boomin)  Who's Stopping Me (& Metro Boomin)   \n3    Double Or Nothing (& Metro Boomin)    Pull Up N Wreck (& Metro Boomin)   \n4    Double Or Nothing (& Metro Boomin)            So Good (& Metro Boomin)   \n..                                  ...                                 ...   \n267               Detroit vs. Everybody                           It's Time   \n268               Detroit vs. Everybody                     All Figured Out   \n269               Detroit vs. Everybody                            100 Keys   \n270               Detroit vs. Everybody                        Toyota Music   \n271               Detroit vs. Everybody                           Stay Down   \n\n                name  acousticness  danceability  energy  instrumentalness  \\\n0       Rae Sremmurd      0.016700         0.656   0.564          0.000001   \n1          Lil Skies      0.123000         0.657   0.579          0.000000   \n2        Huncho Jack      0.425000         0.664   0.552          0.000000   \n3              Migos      0.008060         0.490   0.440          0.001030   \n4       Metro Boomin      0.014400         0.619   0.404          0.000000   \n..               ...           ...           ...     ...               ...   \n267       Tyla Yaweh      0.183000         0.578   0.864          0.000000   \n268    The Kid LAROI      0.052300         0.469   0.785          0.000000   \n269            6LACK      0.000964         0.523   0.752          0.000000   \n270              NAV      0.103000         0.693   0.671          0.001060   \n271  Quality Control      0.230000         0.716   0.847          0.000000   \n\n     liveness  loudness  speechiness    tempo  valence  popularity  \n0      0.1650    -8.925       0.0883  150.014   0.2500          64  \n1      0.1020   -10.463       0.2750   84.985   0.1460          50  \n2      0.0757   -10.479       0.3060   99.721   0.7630          54  \n3      0.1860    -7.760       0.3530  173.095   0.0910          58  \n4      0.1150    -8.333       0.4410   90.008   0.5660          65  \n..        ...       ...          ...      ...      ...         ...  \n267    0.6770    -4.686       0.2050  165.985   0.6070          22  \n268    0.7240    -7.064       0.1160  173.908   0.0826          21  \n269    0.1150    -4.302       0.0595   87.885   0.1210          22  \n270    0.1720    -6.295       0.0406  120.034   0.5210          21  \n271    0.0914    -4.551       0.4040  104.899   0.4480          21  \n\n[272 rows x 13 columns]",
      "text/html": "<div>\n<style scoped>\n    .dataframe tbody tr th:only-of-type {\n        vertical-align: middle;\n    }\n\n    .dataframe tbody tr th {\n        vertical-align: top;\n    }\n\n    .dataframe thead th {\n        text-align: right;\n    }\n</style>\n<table border=\"1\" class=\"dataframe\">\n  <thead>\n    <tr style=\"text-align: right;\">\n      <th></th>\n      <th>album</th>\n      <th>track</th>\n      <th>name</th>\n      <th>acousticness</th>\n      <th>danceability</th>\n      <th>energy</th>\n      <th>instrumentalness</th>\n      <th>liveness</th>\n      <th>loudness</th>\n      <th>speechiness</th>\n      <th>tempo</th>\n      <th>valence</th>\n      <th>popularity</th>\n    </tr>\n  </thead>\n  <tbody>\n    <tr>\n      <th>0</th>\n      <td>Double Or Nothing (&amp; Metro Boomin)</td>\n      <td>Go Legend (&amp; Metro Boomin)</td>\n      <td>Rae Sremmurd</td>\n      <td>0.016700</td>\n      <td>0.656</td>\n      <td>0.564</td>\n      <td>0.000001</td>\n      <td>0.1650</td>\n      <td>-8.925</td>\n      <td>0.0883</td>\n      <td>150.014</td>\n      <td>0.2500</td>\n      <td>64</td>\n    </tr>\n    <tr>\n      <th>1</th>\n      <td>Double Or Nothing (&amp; Metro Boomin)</td>\n      <td>Big Bidness (&amp; Metro Boomin)</td>\n      <td>Lil Skies</td>\n      <td>0.123000</td>\n      <td>0.657</td>\n      <td>0.579</td>\n      <td>0.000000</td>\n      <td>0.1020</td>\n      <td>-10.463</td>\n      <td>0.2750</td>\n      <td>84.985</td>\n      <td>0.1460</td>\n      <td>50</td>\n    </tr>\n    <tr>\n      <th>2</th>\n      <td>Double Or Nothing (&amp; Metro Boomin)</td>\n      <td>Who's Stopping Me (&amp; Metro Boomin)</td>\n      <td>Huncho Jack</td>\n      <td>0.425000</td>\n      <td>0.664</td>\n      <td>0.552</td>\n      <td>0.000000</td>\n      <td>0.0757</td>\n      <td>-10.479</td>\n      <td>0.3060</td>\n      <td>99.721</td>\n      <td>0.7630</td>\n      <td>54</td>\n    </tr>\n    <tr>\n      <th>3</th>\n      <td>Double Or Nothing (&amp; Metro Boomin)</td>\n      <td>Pull Up N Wreck (&amp; Metro Boomin)</td>\n      <td>Migos</td>\n      <td>0.008060</td>\n      <td>0.490</td>\n      <td>0.440</td>\n      <td>0.001030</td>\n      <td>0.1860</td>\n      <td>-7.760</td>\n      <td>0.3530</td>\n      <td>173.095</td>\n      <td>0.0910</td>\n      <td>58</td>\n    </tr>\n    <tr>\n      <th>4</th>\n      <td>Double Or Nothing (&amp; Metro Boomin)</td>\n      <td>So Good (&amp; Metro Boomin)</td>\n      <td>Metro Boomin</td>\n      <td>0.014400</td>\n      <td>0.619</td>\n      <td>0.404</td>\n      <td>0.000000</td>\n      <td>0.1150</td>\n      <td>-8.333</td>\n      <td>0.4410</td>\n      <td>90.008</td>\n      <td>0.5660</td>\n      <td>65</td>\n    </tr>\n    <tr>\n      <th>...</th>\n      <td>...</td>\n      <td>...</td>\n      <td>...</td>\n      <td>...</td>\n      <td>...</td>\n      <td>...</td>\n      <td>...</td>\n      <td>...</td>\n      <td>...</td>\n      <td>...</td>\n      <td>...</td>\n      <td>...</td>\n      <td>...</td>\n    </tr>\n    <tr>\n      <th>267</th>\n      <td>Detroit vs. Everybody</td>\n      <td>It's Time</td>\n      <td>Tyla Yaweh</td>\n      <td>0.183000</td>\n      <td>0.578</td>\n      <td>0.864</td>\n      <td>0.000000</td>\n      <td>0.6770</td>\n      <td>-4.686</td>\n      <td>0.2050</td>\n      <td>165.985</td>\n      <td>0.6070</td>\n      <td>22</td>\n    </tr>\n    <tr>\n      <th>268</th>\n      <td>Detroit vs. Everybody</td>\n      <td>All Figured Out</td>\n      <td>The Kid LAROI</td>\n      <td>0.052300</td>\n      <td>0.469</td>\n      <td>0.785</td>\n      <td>0.000000</td>\n      <td>0.7240</td>\n      <td>-7.064</td>\n      <td>0.1160</td>\n      <td>173.908</td>\n      <td>0.0826</td>\n      <td>21</td>\n    </tr>\n    <tr>\n      <th>269</th>\n      <td>Detroit vs. Everybody</td>\n      <td>100 Keys</td>\n      <td>6LACK</td>\n      <td>0.000964</td>\n      <td>0.523</td>\n      <td>0.752</td>\n      <td>0.000000</td>\n      <td>0.1150</td>\n      <td>-4.302</td>\n      <td>0.0595</td>\n      <td>87.885</td>\n      <td>0.1210</td>\n      <td>22</td>\n    </tr>\n    <tr>\n      <th>270</th>\n      <td>Detroit vs. Everybody</td>\n      <td>Toyota Music</td>\n      <td>NAV</td>\n      <td>0.103000</td>\n      <td>0.693</td>\n      <td>0.671</td>\n      <td>0.001060</td>\n      <td>0.1720</td>\n      <td>-6.295</td>\n      <td>0.0406</td>\n      <td>120.034</td>\n      <td>0.5210</td>\n      <td>21</td>\n    </tr>\n    <tr>\n      <th>271</th>\n      <td>Detroit vs. Everybody</td>\n      <td>Stay Down</td>\n      <td>Quality Control</td>\n      <td>0.230000</td>\n      <td>0.716</td>\n      <td>0.847</td>\n      <td>0.000000</td>\n      <td>0.0914</td>\n      <td>-4.551</td>\n      <td>0.4040</td>\n      <td>104.899</td>\n      <td>0.4480</td>\n      <td>21</td>\n    </tr>\n  </tbody>\n</table>\n<p>272 rows × 13 columns</p>\n</div>"
     },
     "metadata": {},
     "execution_count": 14
    }
   ],
   "source": [
    "df.drop(columns=['uri','id'])"
   ]
  },
  {
   "cell_type": "code",
   "execution_count": 21,
   "metadata": {
    "tags": []
   },
   "outputs": [
    {
     "output_type": "stream",
     "name": "stdout",
     "text": "272\n272\n"
    }
   ],
   "source": [
    "print(len(df))\n",
    "final_df = df.sort_values('popularity', ascending=False).drop_duplicates('uri').sort_index()\n",
    "print(len(final_df))"
   ]
  },
  {
   "cell_type": "code",
   "execution_count": 22,
   "metadata": {},
   "outputs": [
    {
     "output_type": "execute_result",
     "data": {
      "text/plain": "                                      uri                               album  \\\n0    spotify:track:3wAI7MIQtTgwcRmwchPZBc  Double Or Nothing (& Metro Boomin)   \n1    spotify:track:42XnD59SFcomCJu55EPhqJ  Double Or Nothing (& Metro Boomin)   \n2    spotify:track:7dHui7yOhsoj7HdWSuJTW7  Double Or Nothing (& Metro Boomin)   \n3    spotify:track:7DuvVy7JfFgXwWlVzyyPys  Double Or Nothing (& Metro Boomin)   \n4    spotify:track:0fWBFDRTIuk8ZgNdZqhCer  Double Or Nothing (& Metro Boomin)   \n..                                    ...                                 ...   \n267  spotify:track:6rY6O9xVxMdRt839MUahCS               Detroit vs. Everybody   \n268  spotify:track:0ndYfDZJJuZJ0CBfV50z8T               Detroit vs. Everybody   \n269  spotify:track:1gLxa1KlN2eFKu4YvndXKC               Detroit vs. Everybody   \n270  spotify:track:5CulwF1DhG8fmcJEWkA1mq               Detroit vs. Everybody   \n271  spotify:track:0XRLlYCM12f4rK87nSNPKz               Detroit vs. Everybody   \n\n                                  track                      id  \\\n0            Go Legend (& Metro Boomin)  3wAI7MIQtTgwcRmwchPZBc   \n1          Big Bidness (& Metro Boomin)  42XnD59SFcomCJu55EPhqJ   \n2    Who's Stopping Me (& Metro Boomin)  7dHui7yOhsoj7HdWSuJTW7   \n3      Pull Up N Wreck (& Metro Boomin)  7DuvVy7JfFgXwWlVzyyPys   \n4              So Good (& Metro Boomin)  0fWBFDRTIuk8ZgNdZqhCer   \n..                                  ...                     ...   \n267                           It's Time  6rY6O9xVxMdRt839MUahCS   \n268                     All Figured Out  0ndYfDZJJuZJ0CBfV50z8T   \n269                            100 Keys  1gLxa1KlN2eFKu4YvndXKC   \n270                        Toyota Music  5CulwF1DhG8fmcJEWkA1mq   \n271                           Stay Down  0XRLlYCM12f4rK87nSNPKz   \n\n                name  acousticness  danceability  energy  instrumentalness  \\\n0       Rae Sremmurd      0.016700         0.656   0.564          0.000001   \n1          Lil Skies      0.123000         0.657   0.579          0.000000   \n2        Huncho Jack      0.425000         0.664   0.552          0.000000   \n3              Migos      0.008060         0.490   0.440          0.001030   \n4       Metro Boomin      0.014400         0.619   0.404          0.000000   \n..               ...           ...           ...     ...               ...   \n267       Tyla Yaweh      0.183000         0.578   0.864          0.000000   \n268    The Kid LAROI      0.052300         0.469   0.785          0.000000   \n269            6LACK      0.000964         0.523   0.752          0.000000   \n270              NAV      0.103000         0.693   0.671          0.001060   \n271  Quality Control      0.230000         0.716   0.847          0.000000   \n\n     liveness  loudness  speechiness    tempo  valence  popularity  \n0      0.1650    -8.925       0.0883  150.014   0.2500          64  \n1      0.1020   -10.463       0.2750   84.985   0.1460          50  \n2      0.0757   -10.479       0.3060   99.721   0.7630          54  \n3      0.1860    -7.760       0.3530  173.095   0.0910          58  \n4      0.1150    -8.333       0.4410   90.008   0.5660          65  \n..        ...       ...          ...      ...      ...         ...  \n267    0.6770    -4.686       0.2050  165.985   0.6070          22  \n268    0.7240    -7.064       0.1160  173.908   0.0826          21  \n269    0.1150    -4.302       0.0595   87.885   0.1210          22  \n270    0.1720    -6.295       0.0406  120.034   0.5210          21  \n271    0.0914    -4.551       0.4040  104.899   0.4480          21  \n\n[272 rows x 15 columns]",
      "text/html": "<div>\n<style scoped>\n    .dataframe tbody tr th:only-of-type {\n        vertical-align: middle;\n    }\n\n    .dataframe tbody tr th {\n        vertical-align: top;\n    }\n\n    .dataframe thead th {\n        text-align: right;\n    }\n</style>\n<table border=\"1\" class=\"dataframe\">\n  <thead>\n    <tr style=\"text-align: right;\">\n      <th></th>\n      <th>uri</th>\n      <th>album</th>\n      <th>track</th>\n      <th>id</th>\n      <th>name</th>\n      <th>acousticness</th>\n      <th>danceability</th>\n      <th>energy</th>\n      <th>instrumentalness</th>\n      <th>liveness</th>\n      <th>loudness</th>\n      <th>speechiness</th>\n      <th>tempo</th>\n      <th>valence</th>\n      <th>popularity</th>\n    </tr>\n  </thead>\n  <tbody>\n    <tr>\n      <th>0</th>\n      <td>spotify:track:3wAI7MIQtTgwcRmwchPZBc</td>\n      <td>Double Or Nothing (&amp; Metro Boomin)</td>\n      <td>Go Legend (&amp; Metro Boomin)</td>\n      <td>3wAI7MIQtTgwcRmwchPZBc</td>\n      <td>Rae Sremmurd</td>\n      <td>0.016700</td>\n      <td>0.656</td>\n      <td>0.564</td>\n      <td>0.000001</td>\n      <td>0.1650</td>\n      <td>-8.925</td>\n      <td>0.0883</td>\n      <td>150.014</td>\n      <td>0.2500</td>\n      <td>64</td>\n    </tr>\n    <tr>\n      <th>1</th>\n      <td>spotify:track:42XnD59SFcomCJu55EPhqJ</td>\n      <td>Double Or Nothing (&amp; Metro Boomin)</td>\n      <td>Big Bidness (&amp; Metro Boomin)</td>\n      <td>42XnD59SFcomCJu55EPhqJ</td>\n      <td>Lil Skies</td>\n      <td>0.123000</td>\n      <td>0.657</td>\n      <td>0.579</td>\n      <td>0.000000</td>\n      <td>0.1020</td>\n      <td>-10.463</td>\n      <td>0.2750</td>\n      <td>84.985</td>\n      <td>0.1460</td>\n      <td>50</td>\n    </tr>\n    <tr>\n      <th>2</th>\n      <td>spotify:track:7dHui7yOhsoj7HdWSuJTW7</td>\n      <td>Double Or Nothing (&amp; Metro Boomin)</td>\n      <td>Who's Stopping Me (&amp; Metro Boomin)</td>\n      <td>7dHui7yOhsoj7HdWSuJTW7</td>\n      <td>Huncho Jack</td>\n      <td>0.425000</td>\n      <td>0.664</td>\n      <td>0.552</td>\n      <td>0.000000</td>\n      <td>0.0757</td>\n      <td>-10.479</td>\n      <td>0.3060</td>\n      <td>99.721</td>\n      <td>0.7630</td>\n      <td>54</td>\n    </tr>\n    <tr>\n      <th>3</th>\n      <td>spotify:track:7DuvVy7JfFgXwWlVzyyPys</td>\n      <td>Double Or Nothing (&amp; Metro Boomin)</td>\n      <td>Pull Up N Wreck (&amp; Metro Boomin)</td>\n      <td>7DuvVy7JfFgXwWlVzyyPys</td>\n      <td>Migos</td>\n      <td>0.008060</td>\n      <td>0.490</td>\n      <td>0.440</td>\n      <td>0.001030</td>\n      <td>0.1860</td>\n      <td>-7.760</td>\n      <td>0.3530</td>\n      <td>173.095</td>\n      <td>0.0910</td>\n      <td>58</td>\n    </tr>\n    <tr>\n      <th>4</th>\n      <td>spotify:track:0fWBFDRTIuk8ZgNdZqhCer</td>\n      <td>Double Or Nothing (&amp; Metro Boomin)</td>\n      <td>So Good (&amp; Metro Boomin)</td>\n      <td>0fWBFDRTIuk8ZgNdZqhCer</td>\n      <td>Metro Boomin</td>\n      <td>0.014400</td>\n      <td>0.619</td>\n      <td>0.404</td>\n      <td>0.000000</td>\n      <td>0.1150</td>\n      <td>-8.333</td>\n      <td>0.4410</td>\n      <td>90.008</td>\n      <td>0.5660</td>\n      <td>65</td>\n    </tr>\n    <tr>\n      <th>...</th>\n      <td>...</td>\n      <td>...</td>\n      <td>...</td>\n      <td>...</td>\n      <td>...</td>\n      <td>...</td>\n      <td>...</td>\n      <td>...</td>\n      <td>...</td>\n      <td>...</td>\n      <td>...</td>\n      <td>...</td>\n      <td>...</td>\n      <td>...</td>\n      <td>...</td>\n    </tr>\n    <tr>\n      <th>267</th>\n      <td>spotify:track:6rY6O9xVxMdRt839MUahCS</td>\n      <td>Detroit vs. Everybody</td>\n      <td>It's Time</td>\n      <td>6rY6O9xVxMdRt839MUahCS</td>\n      <td>Tyla Yaweh</td>\n      <td>0.183000</td>\n      <td>0.578</td>\n      <td>0.864</td>\n      <td>0.000000</td>\n      <td>0.6770</td>\n      <td>-4.686</td>\n      <td>0.2050</td>\n      <td>165.985</td>\n      <td>0.6070</td>\n      <td>22</td>\n    </tr>\n    <tr>\n      <th>268</th>\n      <td>spotify:track:0ndYfDZJJuZJ0CBfV50z8T</td>\n      <td>Detroit vs. Everybody</td>\n      <td>All Figured Out</td>\n      <td>0ndYfDZJJuZJ0CBfV50z8T</td>\n      <td>The Kid LAROI</td>\n      <td>0.052300</td>\n      <td>0.469</td>\n      <td>0.785</td>\n      <td>0.000000</td>\n      <td>0.7240</td>\n      <td>-7.064</td>\n      <td>0.1160</td>\n      <td>173.908</td>\n      <td>0.0826</td>\n      <td>21</td>\n    </tr>\n    <tr>\n      <th>269</th>\n      <td>spotify:track:1gLxa1KlN2eFKu4YvndXKC</td>\n      <td>Detroit vs. Everybody</td>\n      <td>100 Keys</td>\n      <td>1gLxa1KlN2eFKu4YvndXKC</td>\n      <td>6LACK</td>\n      <td>0.000964</td>\n      <td>0.523</td>\n      <td>0.752</td>\n      <td>0.000000</td>\n      <td>0.1150</td>\n      <td>-4.302</td>\n      <td>0.0595</td>\n      <td>87.885</td>\n      <td>0.1210</td>\n      <td>22</td>\n    </tr>\n    <tr>\n      <th>270</th>\n      <td>spotify:track:5CulwF1DhG8fmcJEWkA1mq</td>\n      <td>Detroit vs. Everybody</td>\n      <td>Toyota Music</td>\n      <td>5CulwF1DhG8fmcJEWkA1mq</td>\n      <td>NAV</td>\n      <td>0.103000</td>\n      <td>0.693</td>\n      <td>0.671</td>\n      <td>0.001060</td>\n      <td>0.1720</td>\n      <td>-6.295</td>\n      <td>0.0406</td>\n      <td>120.034</td>\n      <td>0.5210</td>\n      <td>21</td>\n    </tr>\n    <tr>\n      <th>271</th>\n      <td>spotify:track:0XRLlYCM12f4rK87nSNPKz</td>\n      <td>Detroit vs. Everybody</td>\n      <td>Stay Down</td>\n      <td>0XRLlYCM12f4rK87nSNPKz</td>\n      <td>Quality Control</td>\n      <td>0.230000</td>\n      <td>0.716</td>\n      <td>0.847</td>\n      <td>0.000000</td>\n      <td>0.0914</td>\n      <td>-4.551</td>\n      <td>0.4040</td>\n      <td>104.899</td>\n      <td>0.4480</td>\n      <td>21</td>\n    </tr>\n  </tbody>\n</table>\n<p>272 rows × 15 columns</p>\n</div>"
     },
     "metadata": {},
     "execution_count": 22
    }
   ],
   "source": [
    "final_df"
   ]
  },
  {
   "cell_type": "code",
   "execution_count": null,
   "metadata": {},
   "outputs": [],
   "source": []
  }
 ]
}