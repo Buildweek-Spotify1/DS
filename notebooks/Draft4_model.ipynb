{
 "cells": [
  {
   "cell_type": "code",
   "execution_count": 129,
   "metadata": {
    "colab": {},
    "colab_type": "code",
    "id": "wS95uiRMsb4D"
   },
   "outputs": [],
   "source": [
    "import pandas as pd\n",
    "import numpy as np\n",
    "from sklearn.neighbors import NearestNeighbors\n",
    "from sklearn.base import BaseEstimator, TransformerMixin\n",
    "\n",
    "from flask import Blueprint, request, jsonify, render_template, Flask\n",
    "\n",
    "import requests\n",
    "import json\n",
    "from flask import Blueprint, request, jsonify, render_template, Flask\n",
    "from flask_cors import CORS, cross_origin\n",
    "import pickle\n",
    "import os"
   ]
  },
  {
   "cell_type": "code",
   "execution_count": 130,
   "metadata": {},
   "outputs": [],
   "source": [
    "class My_encoder(BaseEstimator, TransformerMixin):\n",
    "   \n",
    "    def __init__(self,drop = 'first',sparse=False):\n",
    "        self.encoder = OneHotEncoder(drop = drop,sparse = sparse)\n",
    "        self.features_to_encode = []\n",
    "        self.columns = []\n",
    "    \n",
    "    def fit(self,X_train,features_to_encode):\n",
    "        \n",
    "        data = X_train.copy()\n",
    "        self.features_to_encode = features_to_encode\n",
    "        data_to_encode = data[self.features_to_encode]\n",
    "        self.columns = pd.get_dummies(data_to_encode,drop_first = True).columns\n",
    "        self.encoder.fit(data_to_encode)\n",
    "        return self.encoder\n",
    "    \n",
    "    def transform(self,X_test):\n",
    "        \n",
    "        data = X_test.copy()\n",
    "        data.reset_index(drop = True,inplace =True)\n",
    "        data_to_encode = data[self.features_to_encode]\n",
    "        data_left = data.drop(self.features_to_encode,axis = 1)\n",
    "        \n",
    "        data_encoded = pd.DataFrame(self.encoder.transform(data_to_encode),columns = self.columns)\n",
    "        \n",
    "        return pd.concat([data_left,data_encoded],axis = 1)"
   ]
  },
  {
   "cell_type": "code",
   "execution_count": 138,
   "metadata": {},
   "outputs": [],
   "source": [
    "#################################################\n",
    "# Activating CORS\n",
    "app = Flask(__name__)\n",
    "app.config['CORS_HEADERS'] = 'Content-Type'\n",
    "cors = CORS(app)\n",
    "#################################################"
   ]
  },
  {
   "cell_type": "code",
   "execution_count": 166,
   "metadata": {},
   "outputs": [],
   "source": []
  },
  {
   "cell_type": "code",
   "execution_count": null,
   "metadata": {},
   "outputs": [],
   "source": []
  },
  {
   "cell_type": "code",
   "execution_count": null,
   "metadata": {},
   "outputs": [],
   "source": [
    "def safe_paths():\n",
    "    '''\n",
    "    Function helper to define path of pickled model and dataframes.\n",
    "    '''\n",
    "    \n",
    "    model_path = os.path.join('model_pickle.pkl')\n",
    "    train_path = os.path.join('df_encoded_for_train.pkl')\n",
    "    ref_path = os.path.join('df_encoded_for_ref.pkl')\n",
    "    \n",
    "    return (model_path, train_path, ref_path)\n",
    "\n",
    "\n",
    "def load_models():\n",
    "    '''\n",
    "    Helper function to load pickled model and preprocessed dataframes\n",
    "    '''\n",
    "    model_path, train_path, ref_path = safe_paths()\n",
    "    \n",
    "    pickled_model = pickle.load(open(model_path, 'rb'))\n",
    "    pickled_train = pickle.load(open(train_path, 'rb'))\n",
    "    pickled_ref = pickle.load(open(ref_path, 'rb'))\n",
    "        \n",
    "    return (pickled_model, pickled_train, pickled_ref)  \n",
    "\n",
    "\n",
    "############################################################\n",
    "'Saving loaded pickled files in global memory'\n",
    "\n",
    "PICKLED_MODEL, PICKLED_TRAIN, PICKLED_REF = load_models()\n",
    "#############################################################\n",
    "\n",
    "\n",
    "def recommend_track_id(track_id = '2YegxR5As7BeQuVp2U6pek'):\n",
    "    '''\n",
    "    Helper function that takes in a track_id and recommends 14 track_ids of similar songs\n",
    "    '''\n",
    "    \n",
    "    song_num = PICKLED_REF[PICKLED_REF['track_id']==track_id].song_num.to_numpy()[0]\n",
    "    distance, neighbors = PICKLED_MODEL.kneighbors(np.array([PICKLED_TRAIN.values[song_num]]))\n",
    "    \n",
    "\n",
    "    song_list = []\n",
    "    for item in neighbors[0][1:]: # this way excludes itself\n",
    "        row = PICKLED_REF.iloc[item]\n",
    "        song_list.append((row.track_id))  # print list of track id\n",
    "              \n",
    "    return song_list"
   ]
  },
  {
   "cell_type": "code",
   "execution_count": null,
   "metadata": {},
   "outputs": [],
   "source": []
  },
  {
   "cell_type": "code",
   "execution_count": 152,
   "metadata": {},
   "outputs": [
    {
     "data": {
      "text/plain": [
       "['5z6xHjCZr7a7AIcy8sPBKy',\n",
       " '0BIIVWkv7nRdYKCNxQUbfh',\n",
       " '3HE50TVRquwXe9yv2HFoNL',\n",
       " '7jp3STyCSsoakSPUoKTtFX',\n",
       " '56LfnhlS3xvjtCpXWOxleW',\n",
       " '5j0oqJkeHoXjtPCgz9hMmd',\n",
       " '3i8m18jJ3yc2WNT0HxBtsK',\n",
       " '2lwwrWVKdf3LR9lbbhnr6R',\n",
       " '5VJRSXqHca3yAsCEISymlc',\n",
       " '77LywUODoUWlQJxsKQBpHw',\n",
       " '0nkzd3yNniB767zSDDdLZ3',\n",
       " '45LF89wEgE97hGYPM2doJN',\n",
       " '0sp00HSXkQyqTa6QqM0O8V',\n",
       " '5K5OS3f4aBjwpbnfQ9ww1r']"
      ]
     },
     "execution_count": 152,
     "metadata": {},
     "output_type": "execute_result"
    }
   ],
   "source": [
    "a= recommend_track_id('5PntSbMHC1ud6Vvl8x56qd')\n",
    "a"
   ]
  },
  {
   "cell_type": "code",
   "execution_count": null,
   "metadata": {},
   "outputs": [],
   "source": []
  },
  {
   "cell_type": "code",
   "execution_count": 186,
   "metadata": {},
   "outputs": [
    {
     "data": {
      "text/html": [
       "<div>\n",
       "<style scoped>\n",
       "    .dataframe tbody tr th:only-of-type {\n",
       "        vertical-align: middle;\n",
       "    }\n",
       "\n",
       "    .dataframe tbody tr th {\n",
       "        vertical-align: top;\n",
       "    }\n",
       "\n",
       "    .dataframe thead th {\n",
       "        text-align: right;\n",
       "    }\n",
       "</style>\n",
       "<table border=\"1\" class=\"dataframe\">\n",
       "  <thead>\n",
       "    <tr style=\"text-align: right;\">\n",
       "      <th></th>\n",
       "      <th>recs</th>\n",
       "    </tr>\n",
       "  </thead>\n",
       "  <tbody>\n",
       "    <tr>\n",
       "      <th>0</th>\n",
       "      <td>5z6xHjCZr7a7AIcy8sPBKy</td>\n",
       "    </tr>\n",
       "    <tr>\n",
       "      <th>1</th>\n",
       "      <td>0BIIVWkv7nRdYKCNxQUbfh</td>\n",
       "    </tr>\n",
       "    <tr>\n",
       "      <th>2</th>\n",
       "      <td>3HE50TVRquwXe9yv2HFoNL</td>\n",
       "    </tr>\n",
       "    <tr>\n",
       "      <th>3</th>\n",
       "      <td>7jp3STyCSsoakSPUoKTtFX</td>\n",
       "    </tr>\n",
       "    <tr>\n",
       "      <th>4</th>\n",
       "      <td>56LfnhlS3xvjtCpXWOxleW</td>\n",
       "    </tr>\n",
       "    <tr>\n",
       "      <th>5</th>\n",
       "      <td>5j0oqJkeHoXjtPCgz9hMmd</td>\n",
       "    </tr>\n",
       "    <tr>\n",
       "      <th>6</th>\n",
       "      <td>3i8m18jJ3yc2WNT0HxBtsK</td>\n",
       "    </tr>\n",
       "    <tr>\n",
       "      <th>7</th>\n",
       "      <td>2lwwrWVKdf3LR9lbbhnr6R</td>\n",
       "    </tr>\n",
       "    <tr>\n",
       "      <th>8</th>\n",
       "      <td>5VJRSXqHca3yAsCEISymlc</td>\n",
       "    </tr>\n",
       "    <tr>\n",
       "      <th>9</th>\n",
       "      <td>77LywUODoUWlQJxsKQBpHw</td>\n",
       "    </tr>\n",
       "    <tr>\n",
       "      <th>10</th>\n",
       "      <td>0nkzd3yNniB767zSDDdLZ3</td>\n",
       "    </tr>\n",
       "    <tr>\n",
       "      <th>11</th>\n",
       "      <td>45LF89wEgE97hGYPM2doJN</td>\n",
       "    </tr>\n",
       "    <tr>\n",
       "      <th>12</th>\n",
       "      <td>0sp00HSXkQyqTa6QqM0O8V</td>\n",
       "    </tr>\n",
       "    <tr>\n",
       "      <th>13</th>\n",
       "      <td>5K5OS3f4aBjwpbnfQ9ww1r</td>\n",
       "    </tr>\n",
       "  </tbody>\n",
       "</table>\n",
       "</div>"
      ],
      "text/plain": [
       "                      recs\n",
       "0   5z6xHjCZr7a7AIcy8sPBKy\n",
       "1   0BIIVWkv7nRdYKCNxQUbfh\n",
       "2   3HE50TVRquwXe9yv2HFoNL\n",
       "3   7jp3STyCSsoakSPUoKTtFX\n",
       "4   56LfnhlS3xvjtCpXWOxleW\n",
       "5   5j0oqJkeHoXjtPCgz9hMmd\n",
       "6   3i8m18jJ3yc2WNT0HxBtsK\n",
       "7   2lwwrWVKdf3LR9lbbhnr6R\n",
       "8   5VJRSXqHca3yAsCEISymlc\n",
       "9   77LywUODoUWlQJxsKQBpHw\n",
       "10  0nkzd3yNniB767zSDDdLZ3\n",
       "11  45LF89wEgE97hGYPM2doJN\n",
       "12  0sp00HSXkQyqTa6QqM0O8V\n",
       "13  5K5OS3f4aBjwpbnfQ9ww1r"
      ]
     },
     "execution_count": 186,
     "metadata": {},
     "output_type": "execute_result"
    }
   ],
   "source": [
    "adf= pd.DataFrame(a, columns=['recs'])\n",
    "adf"
   ]
  },
  {
   "cell_type": "code",
   "execution_count": 169,
   "metadata": {},
   "outputs": [],
   "source": [
    "b =adf.to_json()"
   ]
  },
  {
   "cell_type": "code",
   "execution_count": 178,
   "metadata": {},
   "outputs": [
    {
     "data": {
      "text/plain": [
       "str"
      ]
     },
     "execution_count": 178,
     "metadata": {},
     "output_type": "execute_result"
    }
   ],
   "source": [
    "type(b)"
   ]
  },
  {
   "cell_type": "code",
   "execution_count": 183,
   "metadata": {},
   "outputs": [
    {
     "data": {
      "text/plain": [
       "'{\"Recs\":{\"0\":\"5Z6Xhjczr7A7Aicy8Spbky\",\"1\":\"0Biivwkv7Nrdykcnxqubfh\",\"2\":\"3He50Tvrquwxe9Yv2Hfonl\",\"3\":\"7Jp3Stycssoakspuokttfx\",\"4\":\"56Lfnhls3Xvjtcpxwoxlew\",\"5\":\"5J0Oqjkehoxjtpcgz9Hmmd\",\"6\":\"3I8M18Jj3Yc2Wnt0Hxbtsk\",\"7\":\"2Lwwrwvkdf3Lr9Lbbhnr6R\",\"8\":\"5Vjrsxqhca3Yasceisymlc\",\"9\":\"77Lywuodouwlqjxskqbphw\",\"10\":\"0Nkzd3Ynnib767Zsdddlz3\",\"11\":\"45Lf89Wege97Hgypm2Dojn\",\"12\":\"0Sp00Hsxkqyqta6Qqm0O8V\",\"13\":\"5K5Os3F4Abjwpbnfq9Ww1R\"}}'"
      ]
     },
     "execution_count": 183,
     "metadata": {},
     "output_type": "execute_result"
    }
   ],
   "source": [
    "b.title()"
   ]
  },
  {
   "cell_type": "code",
   "execution_count": 184,
   "metadata": {},
   "outputs": [
    {
     "data": {
      "text/plain": [
       "['__add__',\n",
       " '__class__',\n",
       " '__contains__',\n",
       " '__delattr__',\n",
       " '__dir__',\n",
       " '__doc__',\n",
       " '__eq__',\n",
       " '__format__',\n",
       " '__ge__',\n",
       " '__getattribute__',\n",
       " '__getitem__',\n",
       " '__getnewargs__',\n",
       " '__gt__',\n",
       " '__hash__',\n",
       " '__init__',\n",
       " '__init_subclass__',\n",
       " '__iter__',\n",
       " '__le__',\n",
       " '__len__',\n",
       " '__lt__',\n",
       " '__mod__',\n",
       " '__mul__',\n",
       " '__ne__',\n",
       " '__new__',\n",
       " '__reduce__',\n",
       " '__reduce_ex__',\n",
       " '__repr__',\n",
       " '__rmod__',\n",
       " '__rmul__',\n",
       " '__setattr__',\n",
       " '__sizeof__',\n",
       " '__str__',\n",
       " '__subclasshook__',\n",
       " 'capitalize',\n",
       " 'casefold',\n",
       " 'center',\n",
       " 'count',\n",
       " 'encode',\n",
       " 'endswith',\n",
       " 'expandtabs',\n",
       " 'find',\n",
       " 'format',\n",
       " 'format_map',\n",
       " 'index',\n",
       " 'isalnum',\n",
       " 'isalpha',\n",
       " 'isascii',\n",
       " 'isdecimal',\n",
       " 'isdigit',\n",
       " 'isidentifier',\n",
       " 'islower',\n",
       " 'isnumeric',\n",
       " 'isprintable',\n",
       " 'isspace',\n",
       " 'istitle',\n",
       " 'isupper',\n",
       " 'join',\n",
       " 'ljust',\n",
       " 'lower',\n",
       " 'lstrip',\n",
       " 'maketrans',\n",
       " 'partition',\n",
       " 'replace',\n",
       " 'rfind',\n",
       " 'rindex',\n",
       " 'rjust',\n",
       " 'rpartition',\n",
       " 'rsplit',\n",
       " 'rstrip',\n",
       " 'split',\n",
       " 'splitlines',\n",
       " 'startswith',\n",
       " 'strip',\n",
       " 'swapcase',\n",
       " 'title',\n",
       " 'translate',\n",
       " 'upper',\n",
       " 'zfill']"
      ]
     },
     "execution_count": 184,
     "metadata": {},
     "output_type": "execute_result"
    }
   ],
   "source": [
    "dir(b)"
   ]
  },
  {
   "cell_type": "code",
   "execution_count": null,
   "metadata": {},
   "outputs": [],
   "source": []
  }
 ],
 "metadata": {
  "colab": {
   "name": "Draft2.ipynb",
   "provenance": []
  },
  "kernelspec": {
   "display_name": "U4S12-NLP (Python3)",
   "language": "python",
   "name": "u4s12-nlp"
  },
  "language_info": {
   "codemirror_mode": {
    "name": "ipython",
    "version": 3
   },
   "file_extension": ".py",
   "mimetype": "text/x-python",
   "name": "python",
   "nbconvert_exporter": "python",
   "pygments_lexer": "ipython3",
   "version": "3.7.0"
  }
 },
 "nbformat": 4,
 "nbformat_minor": 4
}
